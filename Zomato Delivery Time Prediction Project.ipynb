{
 "cells": [
  {
   "cell_type": "code",
   "execution_count": 2,
   "metadata": {},
   "outputs": [],
   "source": [
    "# importing Libraries\n",
    "import pandas as pd\n",
    "import numpy as np\n",
    "import matplotlib.pyplot as plt\n",
    "import statsmodels.api as sm\n",
    "from sklearn.model_selection import train_test_split\n",
    "from sklearn.metrics import confusion_matrix,classification_report\n",
    "from sklearn.ensemble import RandomForestClassifier\n",
    "from sklearn.model_selection import GridSearchCV\n",
    "from sklearn.svm import SVC\n",
    "from xgboost import XGBClassifier\n",
    "from sklearn.neighbors import KNeighborsClassifier\n",
    "import seaborn as sns"
   ]
  },
  {
   "cell_type": "code",
   "execution_count": 3,
   "metadata": {},
   "outputs": [],
   "source": [
    "# load train and test data\n",
    "train = pd.read_excel('Data_Train.xlsx')\n",
    "test = pd.read_excel('Data_Test.xlsx')"
   ]
  },
  {
   "cell_type": "code",
   "execution_count": 4,
   "metadata": {},
   "outputs": [],
   "source": [
    "# concatenate train and test for cleaning\n",
    "data = pd.concat([train,test],sort=False)"
   ]
  },
  {
   "cell_type": "code",
   "execution_count": 5,
   "metadata": {},
   "outputs": [],
   "source": [
    "data[\"Average_Cost\"]= data[\"Average_Cost\"].str.replace(\"₹\",\"\")\n",
    "data[\"Minimum_Order\"]= data[\"Minimum_Order\"].str.replace(\"₹\",\"\")\n",
    "data[\"Delivery_Time\"]= data[\"Delivery_Time\"].str.replace(\"minutes\",\"\")"
   ]
  },
  {
   "cell_type": "code",
   "execution_count": 6,
   "metadata": {},
   "outputs": [],
   "source": [
    "data['City.Pune'] = data['Location'].apply(lambda x: 'Pune' if 'Pune' in x else None)\n",
    "data['City.Kolkata'] = data['Location'].apply(lambda x: 'Kolkata' if 'Kolkata' in x else None)\n",
    "data['City.Mumbai'] = data['Location'].apply(lambda x: 'Mumbai' if 'Mumbai' in x else None)\n",
    "data['City.Bangalore'] = data['Location'].apply(lambda x: 'Bangalore' if 'Bangalore' in x else None)\n",
    "data['City.Delhi'] = data['Location'].apply(lambda x: 'Delhi' if 'Delhi' in x else None)\n",
    "data['City.Hyderabad'] = data['Location'].apply(lambda x: 'Hyderabad' if 'Hyderabad' in x else None)\n",
    "data['City.Noida'] = data['Location'].apply(lambda x: 'Noida' if 'Noida' in x else None)\n",
    "data['City.Gurgaon'] = data['Location'].apply(lambda x: 'Gurgaon' if 'Gurgaon' in x else None)\n",
    "data['City.Majestic'] = data['Location'].apply(lambda x: 'Bangalore' if 'Majestic' in x else None)\n",
    "data['City.Marathalli'] = data['Location'].apply(lambda x: 'Bangalore' if 'Marathalli' in x else None)\n",
    "data['City.Electronic'] = data['Location'].apply(lambda x: 'Bangalore' if 'Electronic' in x else None)\n",
    "data['City.Gurgoan'] = data['Location'].apply(lambda x: 'Gurgaon' if 'Gurgoan' in x else None)\n",
    "data['City.Whitefield'] = data['Location'].apply(lambda x: 'Bangalore' if 'Whitefield' in x else None)\n",
    "\n",
    "data['City'] = data['City.Pune'].map(str)+data['City.Kolkata'].map(str)+data['City.Mumbai'].map(str)+data['City.Bangalore'].map(str)+data['City.Delhi'].map(str)+data['City.Hyderabad'].map(str)+data['City.Noida'].map(str)+data['City.Gurgaon'].map(str)+data['City.Majestic'].map(str)+data['City.Marathalli'].map(str)+data['City.Electronic'].map(str)+data['City.Gurgoan'].map(str)+data['City.Whitefield'].map(str)\n",
    "\n",
    "data['City'] = data['City'].apply(lambda x: x.replace('None',''))"
   ]
  },
  {
   "cell_type": "code",
   "execution_count": 7,
   "metadata": {},
   "outputs": [
    {
     "data": {
      "text/html": [
       "<div>\n",
       "<style scoped>\n",
       "    .dataframe tbody tr th:only-of-type {\n",
       "        vertical-align: middle;\n",
       "    }\n",
       "\n",
       "    .dataframe tbody tr th {\n",
       "        vertical-align: top;\n",
       "    }\n",
       "\n",
       "    .dataframe thead th {\n",
       "        text-align: right;\n",
       "    }\n",
       "</style>\n",
       "<table border=\"1\" class=\"dataframe\">\n",
       "  <thead>\n",
       "    <tr style=\"text-align: right;\">\n",
       "      <th></th>\n",
       "      <th>Restaurant</th>\n",
       "      <th>City</th>\n",
       "      <th>Cuisines</th>\n",
       "      <th>Average_Cost</th>\n",
       "      <th>Minimum_Order</th>\n",
       "      <th>Rating</th>\n",
       "      <th>Votes</th>\n",
       "      <th>Reviews</th>\n",
       "      <th>Delivery_Time</th>\n",
       "    </tr>\n",
       "  </thead>\n",
       "  <tbody>\n",
       "    <tr>\n",
       "      <th>0</th>\n",
       "      <td>ID_6321</td>\n",
       "      <td>Pune</td>\n",
       "      <td>Fast Food, Rolls, Burger, Salad, Wraps</td>\n",
       "      <td>200</td>\n",
       "      <td>50</td>\n",
       "      <td>3.5</td>\n",
       "      <td>12</td>\n",
       "      <td>4</td>\n",
       "      <td>30</td>\n",
       "    </tr>\n",
       "    <tr>\n",
       "      <th>1</th>\n",
       "      <td>ID_2882</td>\n",
       "      <td>Bangalore</td>\n",
       "      <td>Ice Cream, Desserts</td>\n",
       "      <td>100</td>\n",
       "      <td>50</td>\n",
       "      <td>3.5</td>\n",
       "      <td>11</td>\n",
       "      <td>4</td>\n",
       "      <td>30</td>\n",
       "    </tr>\n",
       "    <tr>\n",
       "      <th>2</th>\n",
       "      <td>ID_1595</td>\n",
       "      <td>Mumbai</td>\n",
       "      <td>Italian, Street Food, Fast Food</td>\n",
       "      <td>150</td>\n",
       "      <td>50</td>\n",
       "      <td>3.6</td>\n",
       "      <td>99</td>\n",
       "      <td>30</td>\n",
       "      <td>65</td>\n",
       "    </tr>\n",
       "    <tr>\n",
       "      <th>3</th>\n",
       "      <td>ID_5929</td>\n",
       "      <td>Noida</td>\n",
       "      <td>Mughlai, North Indian, Chinese</td>\n",
       "      <td>250</td>\n",
       "      <td>99</td>\n",
       "      <td>3.7</td>\n",
       "      <td>176</td>\n",
       "      <td>95</td>\n",
       "      <td>30</td>\n",
       "    </tr>\n",
       "    <tr>\n",
       "      <th>4</th>\n",
       "      <td>ID_6123</td>\n",
       "      <td>Bangalore</td>\n",
       "      <td>Cafe, Beverages</td>\n",
       "      <td>200</td>\n",
       "      <td>99</td>\n",
       "      <td>3.2</td>\n",
       "      <td>521</td>\n",
       "      <td>235</td>\n",
       "      <td>65</td>\n",
       "    </tr>\n",
       "  </tbody>\n",
       "</table>\n",
       "</div>"
      ],
      "text/plain": [
       "  Restaurant       City                                Cuisines Average_Cost  \\\n",
       "0    ID_6321       Pune  Fast Food, Rolls, Burger, Salad, Wraps          200   \n",
       "1    ID_2882  Bangalore                     Ice Cream, Desserts          100   \n",
       "2    ID_1595     Mumbai         Italian, Street Food, Fast Food          150   \n",
       "3    ID_5929      Noida          Mughlai, North Indian, Chinese          250   \n",
       "4    ID_6123  Bangalore                         Cafe, Beverages          200   \n",
       "\n",
       "  Minimum_Order Rating Votes Reviews Delivery_Time  \n",
       "0            50    3.5    12       4           30   \n",
       "1            50    3.5    11       4           30   \n",
       "2            50    3.6    99      30           65   \n",
       "3            99    3.7   176      95           30   \n",
       "4            99    3.2   521     235           65   "
      ]
     },
     "execution_count": 7,
     "metadata": {},
     "output_type": "execute_result"
    }
   ],
   "source": [
    "data = data[['Restaurant','City','Cuisines','Average_Cost', 'Minimum_Order', 'Rating', 'Votes', 'Reviews', 'Delivery_Time']]\n",
    "data[0:5]"
   ]
  },
  {
   "cell_type": "code",
   "execution_count": 8,
   "metadata": {},
   "outputs": [],
   "source": [
    "# defining the count function for cuisine \n",
    "def countoc(s):\n",
    "    a=s.split(',')\n",
    "    return len(a)\n",
    "\n",
    "data['Count Cuisine'] = data['Cuisines'].apply(lambda x:countoc(x))\n",
    "\n",
    "cols = ['Average_Cost', 'Minimum_Order', 'Rating', 'Votes', 'Reviews', 'Delivery_Time']\n",
    "data[cols] = data[cols].apply(pd.to_numeric,errors='coerce')"
   ]
  },
  {
   "cell_type": "code",
   "execution_count": 9,
   "metadata": {},
   "outputs": [
    {
     "data": {
      "text/plain": [
       "Restaurant          0\n",
       "City                0\n",
       "Cuisines            0\n",
       "Average_Cost       31\n",
       "Minimum_Order       0\n",
       "Rating           2470\n",
       "Votes            2616\n",
       "Reviews          2905\n",
       "Delivery_Time    2774\n",
       "Count Cuisine       0\n",
       "dtype: int64"
      ]
     },
     "execution_count": 9,
     "metadata": {},
     "output_type": "execute_result"
    }
   ],
   "source": [
    "# checking null values\n",
    "data.isnull().sum()"
   ]
  },
  {
   "cell_type": "code",
   "execution_count": 10,
   "metadata": {},
   "outputs": [],
   "source": [
    "# removing null values\n",
    "data['Average_Cost'] = data['Average_Cost'].fillna(data['Average_Cost'].median())\n",
    "data['Rating'] = data['Rating'].fillna(data['Rating'].median())\n",
    "data['Votes'] = data['Votes'].fillna(data['Votes'].median())\n",
    "data['Reviews'] = data['Reviews'].fillna(data['Reviews'].median())"
   ]
  },
  {
   "cell_type": "code",
   "execution_count": 11,
   "metadata": {},
   "outputs": [
    {
     "data": {
      "text/plain": [
       "Restaurant          0\n",
       "City                0\n",
       "Cuisines            0\n",
       "Average_Cost        0\n",
       "Minimum_Order       0\n",
       "Rating              0\n",
       "Votes               0\n",
       "Reviews             0\n",
       "Delivery_Time    2774\n",
       "Count Cuisine       0\n",
       "dtype: int64"
      ]
     },
     "execution_count": 11,
     "metadata": {},
     "output_type": "execute_result"
    }
   ],
   "source": [
    "data.isna().sum()"
   ]
  },
  {
   "cell_type": "code",
   "execution_count": 12,
   "metadata": {},
   "outputs": [],
   "source": [
    "# split the data into train test\n",
    "train= data[:11094]\n",
    "test= data[11094:]"
   ]
  },
  {
   "cell_type": "code",
   "execution_count": 13,
   "metadata": {},
   "outputs": [],
   "source": [
    "# get dummies for city column\n",
    "X=train[['City','Average_Cost', 'Minimum_Order', 'Rating', 'Votes', 'Reviews', 'Count Cuisine']]\n",
    "y=train['Delivery_Time']\n",
    "X=pd.get_dummies(data=X, drop_first=True)\n",
    "\n",
    "X1=test[['City','Average_Cost', 'Minimum_Order', 'Rating', 'Votes', 'Reviews', 'Count Cuisine']]\n",
    "y1=test['Delivery_Time']\n",
    "X1=pd.get_dummies(data=X1, drop_first=True)"
   ]
  },
  {
   "cell_type": "markdown",
   "metadata": {},
   "source": [
    "# EDA"
   ]
  },
  {
   "cell_type": "code",
   "execution_count": 15,
   "metadata": {},
   "outputs": [
    {
     "data": {
      "image/png": "[encoded data removed]",
      "text/plain": [
       "<Figure size 864x432 with 1 Axes>"
      ]
     },
     "metadata": {},
     "output_type": "display_data"
    }
   ],
   "source": [
    "plt.figure(figsize=(12,6))\n",
    "names = train['City'].value_counts()[:10].index\n",
    "values = train['City'].value_counts()[:10].values\n",
    "colors = ['gold','red','lightcoral','lightskyblue','blue','green','silver']\n",
    "explode = (0.1,0,0,0,0,0,0,0)\n",
    "plt.pie(values,explode=explode,labels=names,colors=colors,autopct='%1.1f%%',shadow =True,startangle=140)\n",
    "plt.axis('equal')\n",
    "plt.title('Percentage of resturants present in that Location', weight='bold')\n",
    "plt.show()"
   ]
  },
  {
   "cell_type": "code",
   "execution_count": 24,
   "metadata": {},
   "outputs": [
    {
     "data": {
      "text/plain": [
       "Text(0.5, 0, 'Delivery_Time')"
      ]
     },
     "execution_count": 24,
     "metadata": {},
     "output_type": "execute_result"
    },
    {
     "data": {
      "image/png": "[encoded data removed]",
      "text/plain": [
       "<Figure size 864x432 with 1 Axes>"
      ]
     },
     "metadata": {
      "needs_background": "light"
     },
     "output_type": "display_data"
    }
   ],
   "source": [
    "plt.figure(figsize=(12,6))\n",
    "ax1=sns.countplot(train['Delivery_Time'])\n",
    "plt.title('Number of Resturants vs Delivery Time', weight='bold')\n",
    "plt.xlabel('Delivery_Time')"
   ]
  },
  {
   "cell_type": "code",
   "execution_count": 26,
   "metadata": {},
   "outputs": [
    {
     "data": {
      "text/plain": [
       "Text(0.5, 1.0, 'City vs Delivery Time distribution')"
      ]
     },
     "execution_count": 26,
     "metadata": {},
     "output_type": "execute_result"
    },
    {
     "data": {
      "image/png": "[encoded data removed]",
      "text/plain": [
       "<Figure size 1440x432 with 1 Axes>"
      ]
     },
     "metadata": {
      "needs_background": "light"
     },
     "output_type": "display_data"
    }
   ],
   "source": [
    "plt.figure(figsize=(20,6))\n",
    "ax2 = sns.countplot(x='City',hue='Delivery_Time',data=train)\n",
    "plt.title('City vs Delivery Time distribution',weight='bold')"
   ]
  },
  {
   "cell_type": "markdown",
   "metadata": {},
   "source": [
    "## Splitting Train Data"
   ]
  },
  {
   "cell_type": "code",
   "execution_count": 13,
   "metadata": {},
   "outputs": [],
   "source": [
    "# Splitting the dataset into the Training set and Test set\n",
    "X_train, X_test, y_train, y_test = train_test_split(X, y, test_size = 0.2, random_state = 0)"
   ]
  },
  {
   "cell_type": "markdown",
   "metadata": {},
   "source": [
    "# KNN Model"
   ]
  },
  {
   "cell_type": "code",
   "execution_count": 15,
   "metadata": {},
   "outputs": [
    {
     "name": "stdout",
     "output_type": "stream",
     "text": [
      "Test Score 0.7381703470031545 Train Score 0.9808450704225352 \n"
     ]
    }
   ],
   "source": [
    "classifier_KNN = KNeighborsClassifier(n_neighbors=1)\n",
    "classifier_KNN.fit(X_train, y_train)\n",
    "\n",
    "train_score_knn=classifier_KNN.score(X_train,y_train)\n",
    "test_score_knn=classifier_KNN.score(X_test,y_test)\n",
    "print(\"Test Score {} Train Score {} \".format(test_score_knn,train_score_knn))"
   ]
  },
  {
   "cell_type": "code",
   "execution_count": 18,
   "metadata": {},
   "outputs": [
    {
     "name": "stdout",
     "output_type": "stream",
     "text": [
      "              precision    recall  f1-score   support\n",
      "\n",
      "        10.0       1.00      0.50      0.67         4\n",
      "        20.0       0.73      0.80      0.76        20\n",
      "        30.0       0.96      0.96      0.96      7406\n",
      "        45.0       0.89      0.89      0.89      2665\n",
      "        65.0       0.85      0.88      0.87       923\n",
      "        80.0       0.76      0.93      0.84        14\n",
      "       120.0       0.94      0.81      0.87        62\n",
      "\n",
      "    accuracy                           0.93     11094\n",
      "   macro avg       0.88      0.82      0.84     11094\n",
      "weighted avg       0.93      0.93      0.93     11094\n",
      "\n"
     ]
    }
   ],
   "source": [
    "print(classification_report(y, classifier_KNN.predict(X)))"
   ]
  },
  {
   "cell_type": "markdown",
   "metadata": {},
   "source": [
    "# XGBoost"
   ]
  },
  {
   "cell_type": "code",
   "execution_count": 14,
   "metadata": {},
   "outputs": [
    {
     "name": "stdout",
     "output_type": "stream",
     "text": [
      "Test Score 0.7309598918431726 Train Score 0.8498028169014085 \n"
     ]
    }
   ],
   "source": [
    "classifier_xgb = XGBClassifier(learning_rate=0.99,random_state=0)\n",
    "classifier_xgb.fit(X_train, y_train)\n",
    "\n",
    "train_score_xgb=classifier_xgb.score(X_train,y_train)\n",
    "test_score_xgb=classifier_xgb.score(X_test,y_test)\n",
    "print(\"Test Score {} Train Score {} \".format(test_score_xgb,train_score_xgb))"
   ]
  },
  {
   "cell_type": "code",
   "execution_count": 15,
   "metadata": {},
   "outputs": [
    {
     "name": "stderr",
     "output_type": "stream",
     "text": [
      "C:\\Users\\sanket\\Anaconda3\\lib\\site-packages\\sklearn\\model_selection\\_split.py:667: UserWarning: The least populated class in y has only 4 members, which is less than n_splits=5.\n",
      "  % (min_groups, self.n_splits)), UserWarning)\n"
     ]
    }
   ],
   "source": [
    "parameters=[{'learning_rate':[0.6,0.8,0.99,1,2],'random_state':[0,1,2,3]}]\n",
    "\n",
    "grid_search= GridSearchCV(estimator= classifier_xgb,param_grid=parameters,scoring='accuracy',cv=5,n_jobs= -1)\n",
    "\n",
    "grid_search=grid_search.fit(X_train, y_train)\n",
    "best_accuracy_xgb=grid_search.best_score_\n",
    "best_parameters_xgb=grid_search.best_params_"
   ]
  },
  {
   "cell_type": "code",
   "execution_count": 16,
   "metadata": {},
   "outputs": [
    {
     "data": {
      "text/plain": [
       "0.7445633802816902"
      ]
     },
     "execution_count": 16,
     "metadata": {},
     "output_type": "execute_result"
    }
   ],
   "source": [
    "best_accuracy_xgb"
   ]
  },
  {
   "cell_type": "code",
   "execution_count": 17,
   "metadata": {},
   "outputs": [
    {
     "data": {
      "text/plain": [
       "{'learning_rate': 0.99, 'random_state': 0}"
      ]
     },
     "execution_count": 17,
     "metadata": {},
     "output_type": "execute_result"
    }
   ],
   "source": [
    "best_parameters_xgb"
   ]
  },
  {
   "cell_type": "code",
   "execution_count": 18,
   "metadata": {},
   "outputs": [
    {
     "name": "stdout",
     "output_type": "stream",
     "text": [
      "              precision    recall  f1-score   support\n",
      "\n",
      "        10.0       1.00      0.50      0.67         4\n",
      "        20.0       0.94      0.75      0.83        20\n",
      "        30.0       0.85      0.94      0.89      7406\n",
      "        45.0       0.74      0.63      0.68      2665\n",
      "        65.0       0.80      0.46      0.58       923\n",
      "        80.0       1.00      0.93      0.96        14\n",
      "       120.0       0.96      0.76      0.85        62\n",
      "\n",
      "    accuracy                           0.83     11094\n",
      "   macro avg       0.90      0.71      0.78     11094\n",
      "weighted avg       0.82      0.83      0.82     11094\n",
      "\n"
     ]
    }
   ],
   "source": [
    "print(classification_report(y, classifier_xgb.predict(X)))"
   ]
  },
  {
   "cell_type": "markdown",
   "metadata": {},
   "source": [
    "# Random Forest"
   ]
  },
  {
   "cell_type": "code",
   "execution_count": 22,
   "metadata": {},
   "outputs": [
    {
     "name": "stdout",
     "output_type": "stream",
     "text": [
      "Test Score 0.7963046417305092 Train Score 0.9890704225352113 \n"
     ]
    }
   ],
   "source": [
    "classifier_rf=RandomForestClassifier(criterion='entropy',random_state = 2,n_estimators = 40)\n",
    "classifier_rf.fit(X_train,y_train)\n",
    "\n",
    "train_score_rf=classifier_rf.score(X_train,y_train)\n",
    "test_score_rf=classifier_rf.score(X_test,y_test)\n",
    "print(\"Test Score {} Train Score {} \".format(test_score_rf,train_score_rf))"
   ]
  },
  {
   "cell_type": "code",
   "execution_count": 95,
   "metadata": {},
   "outputs": [
    {
     "name": "stderr",
     "output_type": "stream",
     "text": [
      "C:\\Users\\sanket\\Anaconda3\\lib\\site-packages\\sklearn\\model_selection\\_split.py:667: UserWarning: The least populated class in y has only 4 members, which is less than n_splits=5.\n",
      "  % (min_groups, self.n_splits)), UserWarning)\n"
     ]
    }
   ],
   "source": [
    "parameters=[{'n_estimators' : [20,30,40,50], 'criterion' : ['entropy'],'random_state':[0,1,2]},\n",
    "           {'n_estimators' : [20,30,40,50], 'criterion' : ['gini'],'random_state':[0,1,2]}]\n",
    "\n",
    "grid_search= GridSearchCV(estimator= classifier_rf,param_grid=parameters,scoring='accuracy',cv=5,n_jobs= -1)\n",
    "\n",
    "grid_search=grid_search.fit(X_train,y_train)\n",
    "best_accuracy_rf=grid_search.best_score_\n",
    "best_parameters_rf=grid_search.best_params_"
   ]
  },
  {
   "cell_type": "code",
   "execution_count": 96,
   "metadata": {},
   "outputs": [
    {
     "data": {
      "text/plain": [
       "0.7830985915492958"
      ]
     },
     "execution_count": 96,
     "metadata": {},
     "output_type": "execute_result"
    }
   ],
   "source": [
    "best_accuracy_rf"
   ]
  },
  {
   "cell_type": "code",
   "execution_count": 97,
   "metadata": {},
   "outputs": [
    {
     "data": {
      "text/plain": [
       "{'criterion': 'entropy', 'n_estimators': 40, 'random_state': 2}"
      ]
     },
     "execution_count": 97,
     "metadata": {},
     "output_type": "execute_result"
    }
   ],
   "source": [
    "best_parameters_rf"
   ]
  },
  {
   "cell_type": "code",
   "execution_count": 23,
   "metadata": {},
   "outputs": [
    {
     "name": "stdout",
     "output_type": "stream",
     "text": [
      "              precision    recall  f1-score   support\n",
      "\n",
      "        10.0       1.00      0.50      0.67         4\n",
      "        20.0       1.00      0.75      0.86        20\n",
      "        30.0       0.95      0.99      0.97      7406\n",
      "        45.0       0.94      0.89      0.91      2665\n",
      "        65.0       0.96      0.87      0.91       923\n",
      "        80.0       1.00      0.93      0.96        14\n",
      "       120.0       0.96      0.79      0.87        62\n",
      "\n",
      "    accuracy                           0.95     11094\n",
      "   macro avg       0.97      0.82      0.88     11094\n",
      "weighted avg       0.95      0.95      0.95     11094\n",
      "\n"
     ]
    }
   ],
   "source": [
    "print(classification_report(y, classifier_rf.predict(X)))"
   ]
  },
  {
   "cell_type": "markdown",
   "metadata": {},
   "source": [
    "# SVM"
   ]
  },
  {
   "cell_type": "code",
   "execution_count": 16,
   "metadata": {},
   "outputs": [
    {
     "name": "stdout",
     "output_type": "stream",
     "text": [
      "Test Score 0.7701667417755745 Train Score 0.979605633802817 \n"
     ]
    }
   ],
   "source": [
    "classifier_svm = SVC(gamma=0.8)\n",
    "classifier_svm.fit(X_train,y_train)\n",
    "    \n",
    "test_score = classifier_svm.score(X_test,y_test)\n",
    "train_score = classifier_svm.score(X_train,y_train)\n",
    "print(\"Test Score {} Train Score {} \".format(test_score,train_score))"
   ]
  },
  {
   "cell_type": "code",
   "execution_count": 33,
   "metadata": {},
   "outputs": [
    {
     "name": "stdout",
     "output_type": "stream",
     "text": [
      "              precision    recall  f1-score   support\n",
      "\n",
      "        10.0       1.00      0.50      0.67         4\n",
      "        20.0       1.00      0.40      0.57        20\n",
      "        30.0       0.92      1.00      0.96      7406\n",
      "        45.0       1.00      0.82      0.90      2665\n",
      "        65.0       1.00      0.82      0.90       923\n",
      "        80.0       1.00      0.86      0.92        14\n",
      "       120.0       1.00      0.66      0.80        62\n",
      "\n",
      "    accuracy                           0.94     11094\n",
      "   macro avg       0.99      0.72      0.82     11094\n",
      "weighted avg       0.94      0.94      0.94     11094\n",
      "\n"
     ]
    }
   ],
   "source": [
    "print(classification_report(y, classifier_svm.predict(X)))"
   ]
  },
  {
   "cell_type": "markdown",
   "metadata": {},
   "source": [
    "### Running model on test data and generating predictions with RFC Non Generalized Model as it is giving the better accuracy"
   ]
  },
  {
   "cell_type": "code",
   "execution_count": 24,
   "metadata": {},
   "outputs": [],
   "source": [
    "# generating prediction using Random Forest\n",
    "y_pred_rf = classifier_rf.predict(X1)"
   ]
  },
  {
   "cell_type": "code",
   "execution_count": 25,
   "metadata": {},
   "outputs": [
    {
     "data": {
      "text/html": [
       "<div>\n",
       "<style scoped>\n",
       "    .dataframe tbody tr th:only-of-type {\n",
       "        vertical-align: middle;\n",
       "    }\n",
       "\n",
       "    .dataframe tbody tr th {\n",
       "        vertical-align: top;\n",
       "    }\n",
       "\n",
       "    .dataframe thead th {\n",
       "        text-align: right;\n",
       "    }\n",
       "</style>\n",
       "<table border=\"1\" class=\"dataframe\">\n",
       "  <thead>\n",
       "    <tr style=\"text-align: right;\">\n",
       "      <th></th>\n",
       "      <th>Restaurant</th>\n",
       "      <th>Delivery_Time</th>\n",
       "    </tr>\n",
       "  </thead>\n",
       "  <tbody>\n",
       "    <tr>\n",
       "      <th>0</th>\n",
       "      <td>ID_2842</td>\n",
       "      <td>30 minutes</td>\n",
       "    </tr>\n",
       "    <tr>\n",
       "      <th>1</th>\n",
       "      <td>ID_730</td>\n",
       "      <td>30 minutes</td>\n",
       "    </tr>\n",
       "    <tr>\n",
       "      <th>2</th>\n",
       "      <td>ID_4620</td>\n",
       "      <td>30 minutes</td>\n",
       "    </tr>\n",
       "    <tr>\n",
       "      <th>3</th>\n",
       "      <td>ID_5470</td>\n",
       "      <td>30 minutes</td>\n",
       "    </tr>\n",
       "    <tr>\n",
       "      <th>4</th>\n",
       "      <td>ID_3249</td>\n",
       "      <td>30 minutes</td>\n",
       "    </tr>\n",
       "    <tr>\n",
       "      <th>...</th>\n",
       "      <td>...</td>\n",
       "      <td>...</td>\n",
       "    </tr>\n",
       "    <tr>\n",
       "      <th>2769</th>\n",
       "      <td>ID_6342</td>\n",
       "      <td>30 minutes</td>\n",
       "    </tr>\n",
       "    <tr>\n",
       "      <th>2770</th>\n",
       "      <td>ID_8495</td>\n",
       "      <td>30 minutes</td>\n",
       "    </tr>\n",
       "    <tr>\n",
       "      <th>2771</th>\n",
       "      <td>ID_7122</td>\n",
       "      <td>30 minutes</td>\n",
       "    </tr>\n",
       "    <tr>\n",
       "      <th>2772</th>\n",
       "      <td>ID_2475</td>\n",
       "      <td>30 minutes</td>\n",
       "    </tr>\n",
       "    <tr>\n",
       "      <th>2773</th>\n",
       "      <td>ID_1595</td>\n",
       "      <td>65 minutes</td>\n",
       "    </tr>\n",
       "  </tbody>\n",
       "</table>\n",
       "<p>2774 rows × 2 columns</p>\n",
       "</div>"
      ],
      "text/plain": [
       "     Restaurant Delivery_Time\n",
       "0       ID_2842    30 minutes\n",
       "1        ID_730    30 minutes\n",
       "2       ID_4620    30 minutes\n",
       "3       ID_5470    30 minutes\n",
       "4       ID_3249    30 minutes\n",
       "...         ...           ...\n",
       "2769    ID_6342    30 minutes\n",
       "2770    ID_8495    30 minutes\n",
       "2771    ID_7122    30 minutes\n",
       "2772    ID_2475    30 minutes\n",
       "2773    ID_1595    65 minutes\n",
       "\n",
       "[2774 rows x 2 columns]"
      ]
     },
     "execution_count": 25,
     "metadata": {},
     "output_type": "execute_result"
    }
   ],
   "source": [
    "sub=pd.DataFrame()\n",
    "sub[\"Restaurant\"]=test[\"Restaurant\"]\n",
    "sub[\"Delivery_Time\"]=np.round(y_pred_rf).astype(int)\n",
    "sub[\"Delivery_Time\"]=sub[\"Delivery_Time\"].astype(str)+\" minutes\"\n",
    "sub.to_excel(\"output.xlsx\",index=False)\n",
    "sub"
   ]
  },
  {
   "cell_type": "code",
   "execution_count": null,
   "metadata": {},
   "outputs": [],
   "source": []
  }
 ],
 "metadata": {
  "kernelspec": {
   "display_name": "Python 3",
   "language": "python",
   "name": "python3"
  },
  "language_info": {
   "codemirror_mode": {
    "name": "ipython",
    "version": 3
   },
   "file_extension": ".py",
   "mimetype": "text/x-python",
   "name": "python",
   "nbconvert_exporter": "python",
   "pygments_lexer": "ipython3",
   "version": "3.7.4"
  }
 },
 "nbformat": 4,
 "nbformat_minor": 2
}
